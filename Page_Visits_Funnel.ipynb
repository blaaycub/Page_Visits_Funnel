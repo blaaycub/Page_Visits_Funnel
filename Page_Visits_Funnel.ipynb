{
 "cells": [
  {
   "cell_type": "markdown",
   "metadata": {},
   "source": [
    "## DATA MANIPULATION WITH PANDAS\n",
    "#### Page Visits Funnel\n",
    "A online retailer would like to analyze data on visits to their website. In this notebook I build a **sales funnel**, which is a description of how many people continue to the next step of a multi-step process. \n",
    "\n",
    "\n",
    "In this case, our funnel is going to describe the following process:\n",
    "\n",
    "1. A user visits the website\n",
    "2. A user adds a product to their cart\n",
    "3. A user clicks “checkout”\n",
    "4. A user actually purchases a product"
   ]
  },
  {
   "cell_type": "markdown",
   "metadata": {},
   "source": [
    "1. Inspect the DataFrames using print and head:\n",
    "\n",
    "* visits lists all of the users who have visited the website\n",
    "* cart lists all of the users who have added a t-shirt to their cart\n",
    "* checkout lists all of the users who have started the checkout\n",
    "* purchase lists all of the users who have purchased a t-shirt"
   ]
  },
  {
   "cell_type": "code",
   "execution_count": 1,
   "metadata": {},
   "outputs": [],
   "source": [
    "import pandas as pd\n",
    "import numpy as np\n",
    "import datetime as dt\n",
    "\n",
    "visits = pd.read_csv(r'E:\\Jupyter_Projects\\Multiple Tables Page Visits Funnel\\visits.csv')\n",
    "cart = pd.read_csv(r'E:\\Jupyter_Projects\\Multiple Tables Page Visits Funnel\\cart.csv')\n",
    "checkout = pd.read_csv(r'E:\\Jupyter_Projects\\Multiple Tables Page Visits Funnel\\checkout.csv')\n",
    "purchase = pd.read_csv(r'E:\\Jupyter_Projects\\Multiple Tables Page Visits Funnel\\purchase.csv')\n"
   ]
  },
  {
   "cell_type": "code",
   "execution_count": 2,
   "metadata": {},
   "outputs": [
    {
     "name": "stdout",
     "output_type": "stream",
     "text": [
      "                                user_id           visit_time\n",
      "0  943647ef-3682-4750-a2e1-918ba6f16188  2017-04-07 15:14:00\n",
      "1  0c3a3dd0-fb64-4eac-bf84-ba069ce409f2  2017-01-26 14:24:00\n",
      "2  6e0b2d60-4027-4d9a-babd-0e7d40859fb1  2017-08-20 08:23:00\n",
      "3  6879527e-c5a6-4d14-b2da-50b85212b0ab  2017-11-04 18:15:00\n",
      "4  a84327ff-5daa-4ba1-b789-d5b4caf81e96  2017-02-27 11:25:00\n",
      "                                user_id            cart_time\n",
      "0  2be90e7c-9cca-44e0-bcc5-124b945ff168  2017-11-07 20:45:00\n",
      "1  4397f73f-1da3-4ab3-91af-762792e25973  2017-05-27 01:35:00\n",
      "2  a9db3d4b-0a0a-4398-a55a-ebb2c7adf663  2017-03-04 10:38:00\n",
      "3  b594862a-36c5-47d5-b818-6e9512b939b3  2017-09-27 08:22:00\n",
      "4  a68a16e2-94f0-4ce8-8ce3-784af0bbb974  2017-07-26 15:48:00\n",
      "                                user_id        checkout_time\n",
      "0  d33bdc47-4afa-45bc-b4e4-dbe948e34c0d  2017-06-25 09:29:00\n",
      "1  4ac186f0-9954-4fea-8a27-c081e428e34e  2017-04-07 20:11:00\n",
      "2  3c9c78a7-124a-4b77-8d2e-e1926e011e7d  2017-07-13 11:38:00\n",
      "3  89fe330a-8966-4756-8f7c-3bdbcd47279a  2017-04-20 16:15:00\n",
      "4  3ccdaf69-2d30-40de-b083-51372881aedd  2017-01-08 20:52:00\n",
      "                                user_id        purchase_time\n",
      "0  4b44ace4-2721-47a0-b24b-15fbfa2abf85  2017-05-11 04:25:00\n",
      "1  02e684ae-a448-408f-a9ff-dcb4a5c99aac  2017-09-05 08:45:00\n",
      "2  4b4bc391-749e-4b90-ab8f-4f6e3c84d6dc  2017-11-20 20:49:00\n",
      "3  a5dbb25f-3c36-4103-9030-9f7c6241cd8d  2017-01-22 15:18:00\n",
      "4  46a3186d-7f5a-4ab9-87af-84d05bfd4867  2017-06-11 11:32:00\n"
     ]
    }
   ],
   "source": [
    "print(visits.head())\n",
    "print(cart.head())\n",
    "print(checkout.head())\n",
    "print(purchase.head())\n",
    "\n",
    "#visits_no_duplicate_ids \n",
    "visits = visits.drop_duplicates(subset='user_id', keep='first').reset_index(drop=True)\n",
    "#cart_no_duplicate_ids \n",
    "cart = cart.drop_duplicates(subset='user_id', keep='first').reset_index(drop=True)\n",
    "#checkout_no_duplicate_ids \n",
    "checkout = checkout.drop_duplicates(subset='user_id', keep='first').reset_index(drop=True)\n",
    "#purchase_no_duplicate_ids \n",
    "purchase = purchase.drop_duplicates(subset='user_id', keep='first').reset_index(drop=True)"
   ]
  },
  {
   "cell_type": "markdown",
   "metadata": {},
   "source": [
    "2. Combine visits and cart using a left merge.\n",
    "3.  How long is the merged DataFrame?"
   ]
  },
  {
   "cell_type": "code",
   "execution_count": 3,
   "metadata": {},
   "outputs": [
    {
     "name": "stdout",
     "output_type": "stream",
     "text": [
      "The amount of visits on the page was 2000.\n"
     ]
    }
   ],
   "source": [
    "visit_to_cart = visits.merge(cart, how=\"left\")\n",
    "visit_to_cart_rows = len(visit_to_cart)\n",
    "print(f'The amount of visits on the page was {visit_to_cart_rows}.')"
   ]
  },
  {
   "cell_type": "markdown",
   "metadata": {},
   "source": [
    "4. How many of the timestamps are null for the column cart_time?\n",
    "\n",
    "    What do these null rows mean?"
   ]
  },
  {
   "cell_type": "code",
   "execution_count": 4,
   "metadata": {},
   "outputs": [
    {
     "name": "stdout",
     "output_type": "stream",
     "text": [
      "The amount of vistors that did not add anything to their cart was 1652.\n",
      "The amount of visitors that did add a product to their cart was 348.\n"
     ]
    }
   ],
   "source": [
    "null_cart_times = len(visit_to_cart[visit_to_cart.cart_time.isnull()])\n",
    "num_added_to_cart = visit_to_cart_rows-null_cart_times\n",
    "print(f'The amount of vistors that did not add anything to their cart was {null_cart_times}.')\n",
    "print(f'The amount of visitors that did add a product to their cart was {num_added_to_cart}.')"
   ]
  },
  {
   "cell_type": "markdown",
   "metadata": {},
   "source": [
    "5. What percent of users who visited Cool T-Shirts Inc. ended up not placing a t-shirt in their cart?\n"
   ]
  },
  {
   "cell_type": "code",
   "execution_count": 5,
   "metadata": {},
   "outputs": [
    {
     "name": "stdout",
     "output_type": "stream",
     "text": [
      "The percentage of vistors that did not add products to their cart: \n",
      "0.826.\n",
      "___________________________________\n",
      "The percentage of visitors who did add products to their cart:\n",
      "0.174.\n"
     ]
    }
   ],
   "source": [
    "print(f'The percentage of vistors that did not add products to their cart: \\n{float(null_cart_times)/(visit_to_cart_rows)}.')\n",
    "print('___________________________________')\n",
    "print(f'The percentage of visitors who did add products to their cart:\\n{float(num_added_to_cart)/(visit_to_cart_rows)}.')"
   ]
  },
  {
   "cell_type": "markdown",
   "metadata": {},
   "source": [
    "6.  Repeat the left merge for cart and checkout and count null values. What percentage of users put items in their cart, but did not proceed to checkout?"
   ]
  },
  {
   "cell_type": "code",
   "execution_count": 6,
   "metadata": {},
   "outputs": [
    {
     "name": "stdout",
     "output_type": "stream",
     "text": [
      "The amount of visitors who did not proceed to checkout after they added an item to their cart was 122.\n",
      "The amount of visitors who proceeded to checkout after they added an item to their cart was 226.\n",
      "___________________________________\n",
      "The percentage of visitors that did not proceed to checkout after adding a product to their cart was:\n",
      "0.351.\n",
      "The percentage of visitors that did proceed to checkout after adding a product to their cart was:\n",
      "0.649.\n"
     ]
    }
   ],
   "source": [
    "cart_to_checkout = cart.merge(checkout, how='left')\n",
    "cart_to_checkout_rows = len(cart_to_checkout)\n",
    "\n",
    "null_checkout_times = len(cart_to_checkout[cart_to_checkout.checkout_time.isnull()])\n",
    "num_proceed_to_checkout = cart_to_checkout_rows-null_checkout_times\n",
    "print(f'The amount of visitors who did not proceed to checkout after they added an item to their cart was {null_checkout_times}.')\n",
    "print(f'The amount of visitors who proceeded to checkout after they added an item to their cart was {num_proceed_to_checkout}.')\n",
    "print('___________________________________')\n",
    "print(f'The percentage of visitors that did not proceed to checkout after adding a product to their cart was:\\n{round(float(null_checkout_times)/(cart_to_checkout_rows),3)}.')\n",
    "print(f'The percentage of visitors that did proceed to checkout after adding a product to their cart was:\\n{round(float(num_proceed_to_checkout)/(cart_to_checkout_rows),3)}.')"
   ]
  },
  {
   "cell_type": "markdown",
   "metadata": {},
   "source": [
    "8.  What percentage of users proceeded to checkout, but did not purchase a t-shirt?"
   ]
  },
  {
   "cell_type": "code",
   "execution_count": 7,
   "metadata": {},
   "outputs": [
    {
     "name": "stdout",
     "output_type": "stream",
     "text": [
      "The number of visitors who did not purchase once they proceeded to checkout was 82.\n",
      "The number of visitors who did purchase after proceededing to checkout was 144.\n",
      "___________________________________\n",
      "The percentage of visitors that did not purchase after proceeding to checkout was:\n",
      " 0.363.\n",
      "The percentage of visitors that purchased a product after proceeding to checkout was:\n",
      " 0.637.\n"
     ]
    }
   ],
   "source": [
    "checkout_to_purchase = checkout.merge(purchase, how=\"left\")\n",
    "checkout_to_purchase_rows = len(checkout_to_purchase)\n",
    "\n",
    "null_purchase_times = len(checkout_to_purchase[checkout_to_purchase.purchase_time.isnull()])\n",
    "num_purchased = checkout_to_purchase_rows-null_purchase_times\n",
    "print(f'The number of visitors who did not purchase once they proceeded to checkout was {null_purchase_times}.')\n",
    "print(f'The number of visitors who did purchase after proceededing to checkout was {num_purchased}.')\n",
    "print('___________________________________')\n",
    "print(f'The percentage of visitors that did not purchase after proceeding to checkout was:\\n {round(float(null_purchase_times)/checkout_to_purchase_rows,3)}.')\n",
    "print(f'The percentage of visitors that purchased a product after proceeding to checkout was:\\n {round(float(num_purchased)/checkout_to_purchase_rows,3)}.')\n"
   ]
  },
  {
   "cell_type": "markdown",
   "metadata": {},
   "source": [
    "7. Merge all four steps of the funnel, in order, using a series of left merges. Save the results to the variable all_data.\n",
    "\n",
    "    Examine the result using print and head."
   ]
  },
  {
   "cell_type": "code",
   "execution_count": 8,
   "metadata": {},
   "outputs": [
    {
     "name": "stdout",
     "output_type": "stream",
     "text": [
      "The percentage of vistors that did not add products to their cart: \n",
      "0.826\n",
      "___________________________________\n",
      "The percentage of visitors that did not proceed to checkout after adding a product to their cart was:\n",
      "0.351.\n",
      "___________________________________\n",
      "The percentage of visitors that did not purchase after proceeding to checkout was:\n",
      "0.363.\n"
     ]
    }
   ],
   "source": [
    "print(f'The percentage of vistors that did not add products to their cart: \\n{float(null_cart_times)/(visit_to_cart_rows)}')\n",
    "print('___________________________________')\n",
    "print(f'The percentage of visitors that did not proceed to checkout after adding a product to their cart was:\\n{round(float(null_checkout_times)/(cart_to_checkout_rows),3)}.')\n",
    "print('___________________________________')\n",
    "print(f'The percentage of visitors that did not purchase after proceeding to checkout was:\\n{round(float(null_purchase_times)/checkout_to_purchase_rows,3)}.')"
   ]
  },
  {
   "cell_type": "markdown",
   "metadata": {},
   "source": [
    "The step in the funnel that appears to have the greatest amount of loss is between \"visitor\" and \"cart\". 82.6% of site visitors leave the site before adding a product to the cart. The company may improve their conversion rate between these two steps by reducing friction of doing so, offering a first purchase discount or some other call to action (CTA). They could initiate a A/B campaign in multiple markets that allows the organization to obtain and analyze data on whether A or B results in greater results. "
   ]
  },
  {
   "cell_type": "code",
   "execution_count": 10,
   "metadata": {},
   "outputs": [
    {
     "data": {
      "text/html": [
       "<div>\n",
       "<style scoped>\n",
       "    .dataframe tbody tr th:only-of-type {\n",
       "        vertical-align: middle;\n",
       "    }\n",
       "\n",
       "    .dataframe tbody tr th {\n",
       "        vertical-align: top;\n",
       "    }\n",
       "\n",
       "    .dataframe thead th {\n",
       "        text-align: right;\n",
       "    }\n",
       "</style>\n",
       "<table border=\"1\" class=\"dataframe\">\n",
       "  <thead>\n",
       "    <tr style=\"text-align: right;\">\n",
       "      <th></th>\n",
       "      <th>user_id</th>\n",
       "      <th>visit_time</th>\n",
       "    </tr>\n",
       "  </thead>\n",
       "  <tbody>\n",
       "    <tr>\n",
       "      <th>0</th>\n",
       "      <td>943647ef-3682-4750-a2e1-918ba6f16188</td>\n",
       "      <td>2017-04-07 15:14:00</td>\n",
       "    </tr>\n",
       "    <tr>\n",
       "      <th>1</th>\n",
       "      <td>0c3a3dd0-fb64-4eac-bf84-ba069ce409f2</td>\n",
       "      <td>2017-01-26 14:24:00</td>\n",
       "    </tr>\n",
       "    <tr>\n",
       "      <th>2</th>\n",
       "      <td>6e0b2d60-4027-4d9a-babd-0e7d40859fb1</td>\n",
       "      <td>2017-08-20 08:23:00</td>\n",
       "    </tr>\n",
       "    <tr>\n",
       "      <th>3</th>\n",
       "      <td>6879527e-c5a6-4d14-b2da-50b85212b0ab</td>\n",
       "      <td>2017-11-04 18:15:00</td>\n",
       "    </tr>\n",
       "    <tr>\n",
       "      <th>4</th>\n",
       "      <td>a84327ff-5daa-4ba1-b789-d5b4caf81e96</td>\n",
       "      <td>2017-02-27 11:25:00</td>\n",
       "    </tr>\n",
       "  </tbody>\n",
       "</table>\n",
       "</div>"
      ],
      "text/plain": [
       "                                user_id           visit_time\n",
       "0  943647ef-3682-4750-a2e1-918ba6f16188  2017-04-07 15:14:00\n",
       "1  0c3a3dd0-fb64-4eac-bf84-ba069ce409f2  2017-01-26 14:24:00\n",
       "2  6e0b2d60-4027-4d9a-babd-0e7d40859fb1  2017-08-20 08:23:00\n",
       "3  6879527e-c5a6-4d14-b2da-50b85212b0ab  2017-11-04 18:15:00\n",
       "4  a84327ff-5daa-4ba1-b789-d5b4caf81e96  2017-02-27 11:25:00"
      ]
     },
     "execution_count": 10,
     "metadata": {},
     "output_type": "execute_result"
    }
   ],
   "source": [
    "visits.head()"
   ]
  },
  {
   "cell_type": "markdown",
   "metadata": {},
   "source": [
    "## Converting visit_time and purchase_time format from 'str' to 'datetime'\n",
    "\n",
    "### data cleaning"
   ]
  },
  {
   "cell_type": "code",
   "execution_count": 11,
   "metadata": {},
   "outputs": [],
   "source": [
    "visits['visit_time'] = pd.to_datetime(visits['visit_time'], format='%Y-%m-%d %H:%M:%S')\n",
    "purchase['purchase_time'] = pd.to_datetime(purchase['purchase_time'], format='%Y-%m-%d %H:%M:%S')\n",
    "# df['dates'] = pd.to_datetime(df['dates'], format='%Y%m%d')"
   ]
  },
  {
   "cell_type": "markdown",
   "metadata": {},
   "source": [
    "Merging all dataframes into all_data and subtracting visit time from purchase time, adding result to all_data"
   ]
  },
  {
   "cell_type": "code",
   "execution_count": 15,
   "metadata": {},
   "outputs": [
    {
     "data": {
      "text/plain": [
       "user_id                      object\n",
       "visit_time           datetime64[ns]\n",
       "cart_time                    object\n",
       "checkout_time                object\n",
       "purchase_time        datetime64[ns]\n",
       "time_to_purchase    timedelta64[ns]\n",
       "dtype: object"
      ]
     },
     "execution_count": 15,
     "metadata": {},
     "output_type": "execute_result"
    }
   ],
   "source": [
    "all_data = visits.merge(cart, how=\"left\").merge(checkout, how=\"left\").merge(purchase, how=\"left\")\n",
    "\n",
    "all_data['time_to_purchase'] = all_data['purchase_time'] - all_data['visit_time']\n",
    "all_data.dtypes"
   ]
  },
  {
   "cell_type": "markdown",
   "metadata": {},
   "source": [
    "Inspecting time_to_purchase column"
   ]
  },
  {
   "cell_type": "code",
   "execution_count": 13,
   "metadata": {},
   "outputs": [
    {
     "name": "stdout",
     "output_type": "stream",
     "text": [
      "0                  NaT\n",
      "1      0 days 00:44:00\n",
      "2                  NaT\n",
      "3                  NaT\n",
      "4                  NaT\n",
      "             ...      \n",
      "1995               NaT\n",
      "1996               NaT\n",
      "1997               NaT\n",
      "1998               NaT\n",
      "1999               NaT\n",
      "Name: time_to_purchase, Length: 2000, dtype: timedelta64[ns]\n"
     ]
    }
   ],
   "source": [
    "print(all_data.time_to_purchase)"
   ]
  },
  {
   "cell_type": "markdown",
   "metadata": {},
   "source": [
    "Calculating the average purchase time - from visit to purchase"
   ]
  },
  {
   "cell_type": "code",
   "execution_count": 14,
   "metadata": {},
   "outputs": [
    {
     "name": "stdout",
     "output_type": "stream",
     "text": [
      "0 days 00:42:33.333333333\n"
     ]
    }
   ],
   "source": [
    "print(all_data.time_to_purchase.mean())"
   ]
  }
 ],
 "metadata": {
  "kernelspec": {
   "display_name": "Python 3",
   "language": "python",
   "name": "python3"
  },
  "language_info": {
   "codemirror_mode": {
    "name": "ipython",
    "version": 3
   },
   "file_extension": ".py",
   "mimetype": "text/x-python",
   "name": "python",
   "nbconvert_exporter": "python",
   "pygments_lexer": "ipython3",
   "version": "3.8.5"
  }
 },
 "nbformat": 4,
 "nbformat_minor": 4
}
